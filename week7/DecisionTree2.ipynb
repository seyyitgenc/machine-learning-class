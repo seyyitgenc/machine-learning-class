{
 "cells": [
  {
   "cell_type": "code",
   "execution_count": null,
   "id": "d0429a86",
   "metadata": {},
   "outputs": [],
   "source": [
    "import pandas as pd\n",
    "import matplotlib.pyplot as plt\n",
    "import numpy as np\n",
    "import seaborn as sns"
   ]
  },
  {
   "cell_type": "code",
   "execution_count": null,
   "id": "b2032c62",
   "metadata": {},
   "outputs": [],
   "source": [
    "data = pd.read_csv(\"C:\\projects_ai\\machine-learning-class\\week7\\mushrooms.csv\")"
   ]
  },
  {
   "cell_type": "code",
   "execution_count": null,
   "id": "e28340a6",
   "metadata": {},
   "outputs": [],
   "source": [
    "data.head()"
   ]
  },
  {
   "cell_type": "code",
   "execution_count": null,
   "id": "cf93ae40",
   "metadata": {},
   "outputs": [],
   "source": [
    "data.info()"
   ]
  },
  {
   "cell_type": "code",
   "execution_count": null,
   "id": "fb3cd5a6",
   "metadata": {},
   "outputs": [],
   "source": [
    "data.drop([\"Unnamed: 32\",\"id\"],axis=1, inplace=True)"
   ]
  },
  {
   "cell_type": "code",
   "execution_count": null,
   "id": "4ff3424f",
   "metadata": {},
   "outputs": [],
   "source": [
    "M = data[data.diagnosis==\"M\"]\n",
    "B = data[data.diagnosis==\"B\"]"
   ]
  },
  {
   "cell_type": "code",
   "execution_count": null,
   "id": "0e1854b4",
   "metadata": {},
   "outputs": [],
   "source": [
    "plt.scatter(M.radius_mean,M.texture_mean,color=\"red\",label=\"malignant\") \n",
    "plt.scatter(B.radius_mean,B.texture_mean,color=\"green\",label=\"benign\")\n",
    "plt.xlabel(\"radius_mean\")\n",
    "plt.ylabel(\"texture_mean\")\n",
    "plt.legend()\n",
    "plt.show()"
   ]
  },
  {
   "cell_type": "code",
   "execution_count": null,
   "id": "ec76516b",
   "metadata": {},
   "outputs": [],
   "source": [
    "data.diagnosis = [1 if each==\"M\" else 0 for each in data.diagnosis] "
   ]
  },
  {
   "cell_type": "code",
   "execution_count": null,
   "id": "07ad8eaa",
   "metadata": {},
   "outputs": [],
   "source": [
    "y = data.diagnosis.values "
   ]
  },
  {
   "cell_type": "code",
   "execution_count": null,
   "id": "1d15441a",
   "metadata": {},
   "outputs": [],
   "source": [
    "x_data= data.iloc[:,1:3].values "
   ]
  },
  {
   "cell_type": "code",
   "execution_count": null,
   "id": "94a8e723",
   "metadata": {},
   "outputs": [],
   "source": [
    "from sklearn.model_selection import train_test_split\n",
    "x_train, x_test, y_train, y_test = train_test_split(x_data,y,test_size=0.3,random_state=1)"
   ]
  },
  {
   "cell_type": "code",
   "execution_count": null,
   "id": "1b8ee24c-f801-4cd6-a1e3-875a7ef2e8a3",
   "metadata": {},
   "outputs": [],
   "source": [
    "from sklearn.preprocessing import StandardScaler\n",
    "st_x=StandardScaler()\n",
    "x_train=st_x.fit_transform(x_train)\n",
    "x_test=st_x.transform(x_test)"
   ]
  },
  {
   "cell_type": "code",
   "execution_count": null,
   "id": "d09abd08-777f-41c5-8f58-ed4015f2330a",
   "metadata": {},
   "outputs": [],
   "source": [
    "from sklearn.tree import DecisionTreeClassifier\n",
    "tree_classification=DecisionTreeClassifier(random_state=1,criterion='entropy')\n",
    "tree_classification.fit(x_train,y_train)"
   ]
  },
  {
   "cell_type": "code",
   "execution_count": null,
   "id": "c1c253c7-3bc3-4e3f-abf6-baf1ec2203c0",
   "metadata": {},
   "outputs": [],
   "source": [
    "y_head=tree_classification.predict(x_test)"
   ]
  },
  {
   "cell_type": "code",
   "execution_count": null,
   "id": "1b5657d7-e6bc-4361-8e8f-8e448c57b6d2",
   "metadata": {},
   "outputs": [],
   "source": [
    "from sklearn.metrics import accuracy_score\n",
    "accuracy=accuracy_score(y_test,y_head)\n",
    "accuracy"
   ]
  },
  {
   "cell_type": "code",
   "execution_count": null,
   "id": "40479f0a-7b37-463d-8751-61bbd4059c1a",
   "metadata": {},
   "outputs": [],
   "source": [
    "from sklearn.metrics import confusion_matrix\n",
    "cm=confusion_matrix(y_test,y_head)"
   ]
  },
  {
   "cell_type": "code",
   "execution_count": null,
   "id": "b6abfa0f-7e62-457a-ac08-0f07662191ed",
   "metadata": {},
   "outputs": [],
   "source": [
    "f,ax=plt.subplots(figsize=(5,5))\n",
    "sns.heatmap(cm,annot=True,fmt='.0f',linewidths=0.5,linecolor=\"red\",ax=ax)\n",
    "plt.xlabel(\"y_pred\")\n",
    "plt.ylabel(\"y_head\")\n",
    "plt.show()"
   ]
  },
  {
   "cell_type": "code",
   "execution_count": null,
   "id": "79176fde-9c6c-43b6-9822-b78516bbd974",
   "metadata": {},
   "outputs": [],
   "source": []
  }
 ],
 "metadata": {
  "kernelspec": {
   "display_name": "Python 3 (ipykernel)",
   "language": "python",
   "name": "python3"
  },
  "language_info": {
   "codemirror_mode": {
    "name": "ipython",
    "version": 3
   },
   "file_extension": ".py",
   "mimetype": "text/x-python",
   "name": "python",
   "nbconvert_exporter": "python",
   "pygments_lexer": "ipython3",
   "version": "3.11.7"
  }
 },
 "nbformat": 4,
 "nbformat_minor": 5
}
